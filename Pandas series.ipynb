{
 "cells": [
  {
   "cell_type": "markdown",
   "id": "107b33b7",
   "metadata": {},
   "source": [
    "# Importing pandas"
   ]
  },
  {
   "cell_type": "code",
   "execution_count": 1,
   "id": "68916511",
   "metadata": {},
   "outputs": [],
   "source": [
    "import pandas as pd"
   ]
  },
  {
   "cell_type": "code",
   "execution_count": 2,
   "id": "721c9628",
   "metadata": {},
   "outputs": [
    {
     "data": {
      "text/plain": [
       "'1.4.1'"
      ]
     },
     "execution_count": 2,
     "metadata": {},
     "output_type": "execute_result"
    }
   ],
   "source": [
    "#checking version\n",
    "pd.__version__"
   ]
  },
  {
   "cell_type": "markdown",
   "id": "453cb387",
   "metadata": {},
   "source": [
    "# Creating series from list "
   ]
  },
  {
   "cell_type": "code",
   "execution_count": 3,
   "id": "c02a7df0",
   "metadata": {},
   "outputs": [
    {
     "name": "stdout",
     "output_type": "stream",
     "text": [
      "[1, 2, 3, 'pandas']\n"
     ]
    }
   ],
   "source": [
    "list1 = [1 ,2 ,3 ,'pandas']\n",
    "print(list1)"
   ]
  },
  {
   "cell_type": "code",
   "execution_count": 4,
   "id": "3a3a2172",
   "metadata": {},
   "outputs": [
    {
     "name": "stdout",
     "output_type": "stream",
     "text": [
      "0         1\n",
      "1         2\n",
      "2         3\n",
      "3    pandas\n",
      "dtype: object\n"
     ]
    }
   ],
   "source": [
    "series1 = pd.Series(list1)\n",
    "print(series1)"
   ]
  },
  {
   "cell_type": "code",
   "execution_count": 5,
   "id": "f3272738",
   "metadata": {},
   "outputs": [
    {
     "data": {
      "text/plain": [
       "pandas.core.series.Series"
      ]
     },
     "execution_count": 5,
     "metadata": {},
     "output_type": "execute_result"
    }
   ],
   "source": [
    "#checking datatype of the series\n",
    "type(series1)"
   ]
  },
  {
   "cell_type": "markdown",
   "id": "84f15c39",
   "metadata": {},
   "source": [
    "# Creating Empty Series "
   ]
  },
  {
   "cell_type": "code",
   "execution_count": 6,
   "id": "35a8596e",
   "metadata": {},
   "outputs": [
    {
     "name": "stdout",
     "output_type": "stream",
     "text": [
      "Series([], dtype: float64)\n"
     ]
    }
   ],
   "source": [
    "empty = pd.Series([], dtype = float)\n",
    "print(empty)"
   ]
  },
  {
   "cell_type": "markdown",
   "id": "6046e499",
   "metadata": {},
   "source": [
    "# Creating Series using a different method"
   ]
  },
  {
   "cell_type": "code",
   "execution_count": 7,
   "id": "7cfa8ee1",
   "metadata": {
    "scrolled": true
   },
   "outputs": [
    {
     "name": "stdout",
     "output_type": "stream",
     "text": [
      "0    1\n",
      "1    2\n",
      "2    3\n",
      "3    4\n",
      "4    5\n",
      "dtype: int64\n"
     ]
    }
   ],
   "source": [
    "series2 = pd.Series([1, 2, 3, 4, 5])\n",
    "print(series2)"
   ]
  },
  {
   "cell_type": "code",
   "execution_count": 8,
   "id": "20ed64cf",
   "metadata": {},
   "outputs": [
    {
     "name": "stdout",
     "output_type": "stream",
     "text": [
      "a    1\n",
      "b    2\n",
      "c    3\n",
      "d    4\n",
      "e    5\n",
      "dtype: int64\n"
     ]
    }
   ],
   "source": [
    "#self indexing for series\n",
    "series2 = pd.Series([1, 2, 3, 4, 5], index = ['a', 'b', 'c', 'd', 'e'])\n",
    "print(series2)"
   ]
  },
  {
   "cell_type": "code",
   "execution_count": 9,
   "id": "2f47242f",
   "metadata": {},
   "outputs": [
    {
     "name": "stdout",
     "output_type": "stream",
     "text": [
      "a    1.0\n",
      "b    2.0\n",
      "c    3.0\n",
      "d    4.0\n",
      "e    5.0\n",
      "dtype: float64\n"
     ]
    }
   ],
   "source": [
    "#changing datatype of the series\n",
    "series2 = pd.Series([1, 2, 3, 4, 5], index = ['a', 'b', 'c', 'd', 'e'], dtype = float)\n",
    "print(series2)"
   ]
  },
  {
   "cell_type": "markdown",
   "id": "68a254cb",
   "metadata": {},
   "source": [
    "# Creating series from scalar values"
   ]
  },
  {
   "cell_type": "code",
   "execution_count": 10,
   "id": "8a1128ba",
   "metadata": {},
   "outputs": [
    {
     "name": "stdout",
     "output_type": "stream",
     "text": [
      "0    10\n",
      "dtype: int64\n"
     ]
    }
   ],
   "source": [
    "series3 = pd.Series(10)\n",
    "print(series3)"
   ]
  },
  {
   "cell_type": "code",
   "execution_count": 11,
   "id": "c9d90ad2",
   "metadata": {},
   "outputs": [
    {
     "name": "stdout",
     "output_type": "stream",
     "text": [
      "1    10\n",
      "2    10\n",
      "3    10\n",
      "4    10\n",
      "5    10\n",
      "dtype: int64\n"
     ]
    }
   ],
   "source": [
    "#for more data values index should be needed.\n",
    "series3 = pd.Series(10, index = [1, 2, 3, 4, 5])\n",
    "print(series3)"
   ]
  },
  {
   "cell_type": "markdown",
   "id": "ee9ec92b",
   "metadata": {},
   "source": [
    "# Creating series from python dictionary"
   ]
  },
  {
   "cell_type": "code",
   "execution_count": 12,
   "id": "1086b83d",
   "metadata": {},
   "outputs": [
    {
     "name": "stdout",
     "output_type": "stream",
     "text": [
      "a    1\n",
      "b    2\n",
      "c    3\n",
      "dtype: int64\n"
     ]
    }
   ],
   "source": [
    "series4 = pd.Series({'a':1, 'b':2, 'c':3})\n",
    "print(series4)"
   ]
  },
  {
   "cell_type": "markdown",
   "id": "9b6ca45f",
   "metadata": {},
   "source": [
    "## Accessing element from series"
   ]
  },
  {
   "cell_type": "code",
   "execution_count": 13,
   "id": "f968fb1d",
   "metadata": {},
   "outputs": [
    {
     "name": "stdout",
     "output_type": "stream",
     "text": [
      "a    1.0\n",
      "b    2.0\n",
      "c    3.0\n",
      "d    4.0\n",
      "e    5.0\n",
      "dtype: float64\n"
     ]
    }
   ],
   "source": [
    "print(series2)"
   ]
  },
  {
   "cell_type": "code",
   "execution_count": 14,
   "id": "a7b76164",
   "metadata": {},
   "outputs": [
    {
     "data": {
      "text/plain": [
       "2.0"
      ]
     },
     "execution_count": 14,
     "metadata": {},
     "output_type": "execute_result"
    }
   ],
   "source": [
    "series2[1]"
   ]
  },
  {
   "cell_type": "code",
   "execution_count": 15,
   "id": "de6771bf",
   "metadata": {},
   "outputs": [
    {
     "data": {
      "text/plain": [
       "5.0"
      ]
     },
     "execution_count": 15,
     "metadata": {},
     "output_type": "execute_result"
    }
   ],
   "source": [
    "series2[4]"
   ]
  },
  {
   "cell_type": "markdown",
   "id": "69fe8a9b",
   "metadata": {},
   "source": [
    "## Slicing series"
   ]
  },
  {
   "cell_type": "code",
   "execution_count": 16,
   "id": "beda30d7",
   "metadata": {},
   "outputs": [
    {
     "data": {
      "text/plain": [
       "b    2.0\n",
       "c    3.0\n",
       "d    4.0\n",
       "dtype: float64"
      ]
     },
     "execution_count": 16,
     "metadata": {},
     "output_type": "execute_result"
    }
   ],
   "source": [
    "series2[1: 4]"
   ]
  },
  {
   "cell_type": "markdown",
   "id": "5cb89d38",
   "metadata": {},
   "source": [
    "## Adding two serieses"
   ]
  },
  {
   "cell_type": "code",
   "execution_count": 17,
   "id": "c02c1b3d",
   "metadata": {},
   "outputs": [],
   "source": [
    "series5 = pd.Series([1,2,3,4,5])\n",
    "series6 = pd.Series([1,2,3,4,5])\n",
    "a = series5 + series6"
   ]
  },
  {
   "cell_type": "code",
   "execution_count": 18,
   "id": "68c3bae1",
   "metadata": {},
   "outputs": [
    {
     "name": "stdout",
     "output_type": "stream",
     "text": [
      "0     2\n",
      "1     4\n",
      "2     6\n",
      "3     8\n",
      "4    10\n",
      "dtype: int64\n"
     ]
    }
   ],
   "source": [
    "print(a)"
   ]
  },
  {
   "cell_type": "code",
   "execution_count": 19,
   "id": "f0edd910",
   "metadata": {},
   "outputs": [
    {
     "data": {
      "text/plain": [
       "0     2\n",
       "1     4\n",
       "2     6\n",
       "3     8\n",
       "4    10\n",
       "dtype: int64"
      ]
     },
     "execution_count": 19,
     "metadata": {},
     "output_type": "execute_result"
    }
   ],
   "source": [
    "#we can also add series using add method\n",
    "series5.add(series6)"
   ]
  },
  {
   "cell_type": "markdown",
   "id": "f97fdfaf",
   "metadata": {},
   "source": [
    "## maximum and minimum values"
   ]
  },
  {
   "cell_type": "code",
   "execution_count": 20,
   "id": "948ffc2b",
   "metadata": {},
   "outputs": [
    {
     "data": {
      "text/plain": [
       "2"
      ]
     },
     "execution_count": 20,
     "metadata": {},
     "output_type": "execute_result"
    }
   ],
   "source": [
    "min(a)"
   ]
  },
  {
   "cell_type": "code",
   "execution_count": 21,
   "id": "2efe66ba",
   "metadata": {},
   "outputs": [
    {
     "data": {
      "text/plain": [
       "10"
      ]
     },
     "execution_count": 21,
     "metadata": {},
     "output_type": "execute_result"
    }
   ],
   "source": [
    "max(a)"
   ]
  },
  {
   "cell_type": "markdown",
   "id": "46ada230",
   "metadata": {},
   "source": [
    "## Conditional operator"
   ]
  },
  {
   "cell_type": "code",
   "execution_count": 22,
   "id": "91b8a5f7",
   "metadata": {},
   "outputs": [
    {
     "data": {
      "text/plain": [
       "0    2\n",
       "1    4\n",
       "2    6\n",
       "dtype: int64"
      ]
     },
     "execution_count": 22,
     "metadata": {},
     "output_type": "execute_result"
    }
   ],
   "source": [
    "a[a < 8]"
   ]
  },
  {
   "cell_type": "code",
   "execution_count": 23,
   "id": "4caf4617",
   "metadata": {},
   "outputs": [
    {
     "data": {
      "text/plain": [
       "0     2\n",
       "1     4\n",
       "3     8\n",
       "4    10\n",
       "dtype: int64"
      ]
     },
     "execution_count": 23,
     "metadata": {},
     "output_type": "execute_result"
    }
   ],
   "source": [
    "#Using drop() function we can eliminate any index value\n",
    "a.drop(2)"
   ]
  },
  {
   "cell_type": "code",
   "execution_count": 24,
   "id": "d21a5ed4",
   "metadata": {},
   "outputs": [],
   "source": [
    "series7 = pd.Series([1,2,3,4,5])\n",
    "series8 = pd.Series([1,2,3])"
   ]
  },
  {
   "cell_type": "code",
   "execution_count": 25,
   "id": "417f8188",
   "metadata": {
    "scrolled": true
   },
   "outputs": [
    {
     "data": {
      "text/plain": [
       "0    2.0\n",
       "1    4.0\n",
       "2    6.0\n",
       "3    NaN\n",
       "4    NaN\n",
       "dtype: float64"
      ]
     },
     "execution_count": 25,
     "metadata": {},
     "output_type": "execute_result"
    }
   ],
   "source": [
    "#Missing values are shown by NaN\n",
    "series7 + series8"
   ]
  }
 ],
 "metadata": {
  "kernelspec": {
   "display_name": "Python 3 (ipykernel)",
   "language": "python",
   "name": "python3"
  },
  "language_info": {
   "codemirror_mode": {
    "name": "ipython",
    "version": 3
   },
   "file_extension": ".py",
   "mimetype": "text/x-python",
   "name": "python",
   "nbconvert_exporter": "python",
   "pygments_lexer": "ipython3",
   "version": "3.9.6"
  }
 },
 "nbformat": 4,
 "nbformat_minor": 5
}
